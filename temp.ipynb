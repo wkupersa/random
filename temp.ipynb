{
 "metadata": {
  "language_info": {
   "codemirror_mode": {
    "name": "ipython",
    "version": 3
   },
   "file_extension": ".py",
   "mimetype": "text/x-python",
   "name": "python",
   "nbconvert_exporter": "python",
   "pygments_lexer": "ipython3",
   "version": "3.5.6-final"
  },
  "orig_nbformat": 2,
  "kernelspec": {
   "name": "python3",
   "display_name": "Python 3",
   "language": "python"
  }
 },
 "nbformat": 4,
 "nbformat_minor": 2,
 "cells": [
  {
   "cell_type": "code",
   "execution_count": 1,
   "metadata": {},
   "outputs": [],
   "source": [
    "import requests \n",
    "import pandas as pd\n",
    "import numpy as np\n",
    "\n",
    "key='3bf332a43b37416179df34ff8b97f2a7'\n",
    "r = requests.get('https://sandbox-api.brewerydb.com/v2/beers?key='+ key)\n"
   ]
  },
  {
   "cell_type": "code",
   "execution_count": 2,
   "metadata": {},
   "outputs": [
    {
     "output_type": "stream",
     "name": "stdout",
     "text": [
      "dict_keys(['numberOfPages', 'status', 'currentPage', 'data', 'totalResults'])\n"
     ]
    }
   ],
   "source": [
    "print(r.json().keys())"
   ]
  },
  {
   "cell_type": "code",
   "execution_count": null,
   "metadata": {},
   "outputs": [],
   "source": []
  },
  {
   "cell_type": "code",
   "execution_count": 6,
   "metadata": {},
   "outputs": [],
   "source": [
    "json_data = r.json()['data']\n",
    "series_list = []\n",
    "for i in json_data:\n",
    "    try:  \n",
    "        beer_dict = {\n",
    "            'date':i['createDate'],'name':i['name'],'abv':i['abv'],\n",
    "            'id':i['id'],'style':i['style']['shortName']\n",
    "            }\n",
    "        series_list.append(pd.Series(beer_dict))\n",
    "        \n",
    "    except:\n",
    "        pass"
   ]
  },
  {
   "cell_type": "code",
   "execution_count": 7,
   "metadata": {},
   "outputs": [
    {
     "output_type": "execute_result",
     "data": {
      "text/html": "<div>\n<style scoped>\n    .dataframe tbody tr th:only-of-type {\n        vertical-align: middle;\n    }\n\n    .dataframe tbody tr th {\n        vertical-align: top;\n    }\n\n    .dataframe thead th {\n        text-align: right;\n    }\n</style>\n<table border=\"1\" class=\"dataframe\">\n  <thead>\n    <tr style=\"text-align: right;\">\n      <th></th>\n      <th>abv</th>\n      <th>date</th>\n      <th>id</th>\n      <th>name</th>\n      <th>style</th>\n    </tr>\n  </thead>\n  <tbody>\n    <tr>\n      <th>0</th>\n      <td>5.5</td>\n      <td>2013-08-19 11:58:12</td>\n      <td>c4f2KE</td>\n      <td>'Murican Pilsner</td>\n      <td>American Pilsener</td>\n    </tr>\n    <tr>\n      <th>1</th>\n      <td>4.5</td>\n      <td>2016-08-09 14:44:42</td>\n      <td>zTTWa2</td>\n      <td>11.5° PLATO</td>\n      <td>Session IPA</td>\n    </tr>\n    <tr>\n      <th>2</th>\n      <td>5.5</td>\n      <td>2016-08-03 23:25:54</td>\n      <td>zfP2fK</td>\n      <td>12th Of Never</td>\n      <td>American Pale</td>\n    </tr>\n    <tr>\n      <th>3</th>\n      <td>11</td>\n      <td>2013-02-24 16:31:05</td>\n      <td>UJGpVS</td>\n      <td>16 So Fine Red Wheat Wine</td>\n      <td>Wheatwine</td>\n    </tr>\n    <tr>\n      <th>4</th>\n      <td>4.5</td>\n      <td>2018-04-29 16:55:00</td>\n      <td>vz5JZ1</td>\n      <td>1794 The Fergal Project</td>\n      <td>American Stout</td>\n    </tr>\n    <tr>\n      <th>5</th>\n      <td>9</td>\n      <td>2015-04-16 15:43:03</td>\n      <td>LcpeBb</td>\n      <td>17th Saison</td>\n      <td>Saison</td>\n    </tr>\n    <tr>\n      <th>6</th>\n      <td>10</td>\n      <td>2015-04-15 20:02:48</td>\n      <td>Yd8G8r</td>\n      <td>18th Anniversary Belgian Tripel</td>\n      <td>Belgian Tripel</td>\n    </tr>\n    <tr>\n      <th>7</th>\n      <td>7</td>\n      <td>2017-09-06 14:34:39</td>\n      <td>iJ329Y</td>\n      <td>19 - Golden Belgian Style Ale</td>\n      <td>BBL Aged Strong</td>\n    </tr>\n    <tr>\n      <th>8</th>\n      <td>5</td>\n      <td>2017-06-19 14:11:51</td>\n      <td>O78ldO</td>\n      <td>1904 American Red Lager</td>\n      <td>American Lager</td>\n    </tr>\n    <tr>\n      <th>9</th>\n      <td>8.7</td>\n      <td>2012-01-03 02:42:37</td>\n      <td>qGDeH1</td>\n      <td>2 x 4</td>\n      <td>Belgian Ale</td>\n    </tr>\n    <tr>\n      <th>10</th>\n      <td>6</td>\n      <td>2017-09-11 16:56:19</td>\n      <td>MgdJep</td>\n      <td>200th Anniversary Export Stout</td>\n      <td>Export Stout</td>\n    </tr>\n    <tr>\n      <th>11</th>\n      <td>6.5</td>\n      <td>2017-04-11 15:29:50</td>\n      <td>ISTT06</td>\n      <td>2017 Beer Camp</td>\n      <td>American IPA</td>\n    </tr>\n    <tr>\n      <th>12</th>\n      <td>9</td>\n      <td>2017-02-18 19:42:40</td>\n      <td>v4KRep</td>\n      <td>20th Anniversary Imperial Hash IPA on Brett</td>\n      <td>Imperial IPA</td>\n    </tr>\n    <tr>\n      <th>13</th>\n      <td>7.9</td>\n      <td>2018-04-17 19:19:15</td>\n      <td>e9sjBk</td>\n      <td>21st Anniversary</td>\n      <td>Flanders Red</td>\n    </tr>\n    <tr>\n      <th>14</th>\n      <td>9.8</td>\n      <td>2015-12-11 15:48:31</td>\n      <td>YZXVKq</td>\n      <td>25th Anniversary</td>\n      <td>American Imperial Porter</td>\n    </tr>\n    <tr>\n      <th>15</th>\n      <td>4</td>\n      <td>2017-07-23 21:47:32</td>\n      <td>7z8RTq</td>\n      <td>3 Weight</td>\n      <td>Session IPA</td>\n    </tr>\n    <tr>\n      <th>16</th>\n      <td>8.3</td>\n      <td>2014-06-17 20:00:02</td>\n      <td>f5CWb6</td>\n      <td>30th Anniversary - Charlie, Fred &amp; Ken's Bock</td>\n      <td>Maibock</td>\n    </tr>\n    <tr>\n      <th>17</th>\n      <td>9.2</td>\n      <td>2014-02-04 22:15:20</td>\n      <td>0KEzfx</td>\n      <td>30th Anniversary - Fritz and Ken's Ale</td>\n      <td>American Imperial Stout</td>\n    </tr>\n    <tr>\n      <th>18</th>\n      <td>9.2</td>\n      <td>2018-05-10 17:15:23</td>\n      <td>KjumXn</td>\n      <td>30th Anniversary - Grand Cru</td>\n      <td>Strong Ale</td>\n    </tr>\n    <tr>\n      <th>19</th>\n      <td>10.2</td>\n      <td>2014-06-17 20:02:42</td>\n      <td>8M5lCq</td>\n      <td>30th Anniversary - Jack &amp; Ken's Ale</td>\n      <td>American Barleywine</td>\n    </tr>\n    <tr>\n      <th>20</th>\n      <td>8</td>\n      <td>2015-11-10 14:23:57</td>\n      <td>ajbd6g</td>\n      <td>35th Anniversary  - Brewer's Reserve</td>\n      <td>Strong Ale</td>\n    </tr>\n    <tr>\n      <th>21</th>\n      <td>5.4</td>\n      <td>2012-01-03 02:44:20</td>\n      <td>NoNhan</td>\n      <td>420 Extra Pale Ale</td>\n      <td>American Pale</td>\n    </tr>\n    <tr>\n      <th>22</th>\n      <td>8</td>\n      <td>2015-06-01 22:38:11</td>\n      <td>pOUbfg</td>\n      <td>420 Fest</td>\n      <td>Imperial IPA</td>\n    </tr>\n    <tr>\n      <th>23</th>\n      <td>6</td>\n      <td>2018-07-13 19:25:27</td>\n      <td>jIKwgZ</td>\n      <td>420 Strain G13 IPA</td>\n      <td>American IPA</td>\n    </tr>\n    <tr>\n      <th>24</th>\n      <td>9.2</td>\n      <td>2015-11-18 18:37:22</td>\n      <td>lWygSS</td>\n      <td>471 Double IPA - Hull Melon</td>\n      <td>Imperial IPA</td>\n    </tr>\n    <tr>\n      <th>25</th>\n      <td>7.8</td>\n      <td>2012-01-03 02:42:37</td>\n      <td>fa0oqf</td>\n      <td>471 ESB - Extra Special Bitter</td>\n      <td>ESB</td>\n    </tr>\n    <tr>\n      <th>26</th>\n      <td>11.3</td>\n      <td>2017-04-19 13:37:27</td>\n      <td>HZMvCT</td>\n      <td>471 IPA Barrel Series: Citra</td>\n      <td>Imperial IPA</td>\n    </tr>\n    <tr>\n      <th>27</th>\n      <td>11.2</td>\n      <td>2016-11-30 19:13:16</td>\n      <td>GysKeq</td>\n      <td>471 IPA Barrel Series: Eureka!</td>\n      <td>Imperial IPA</td>\n    </tr>\n    <tr>\n      <th>28</th>\n      <td>9.2</td>\n      <td>2012-01-03 02:42:37</td>\n      <td>tw2Iw0</td>\n      <td>471 IPA. Aggressive Hoppiness</td>\n      <td>Imperial IPA</td>\n    </tr>\n    <tr>\n      <th>29</th>\n      <td>9.2</td>\n      <td>2012-01-03 02:42:37</td>\n      <td>j9cp5e</td>\n      <td>471 Small Batch IPA</td>\n      <td>American IPA</td>\n    </tr>\n    <tr>\n      <th>30</th>\n      <td>6.5</td>\n      <td>2012-01-03 02:42:37</td>\n      <td>5MX880</td>\n      <td>5 C's IPA</td>\n      <td>American IPA</td>\n    </tr>\n    <tr>\n      <th>31</th>\n      <td>5</td>\n      <td>2015-07-14 20:56:20</td>\n      <td>uA3MVL</td>\n      <td>7 Birds</td>\n      <td>American Pilsener</td>\n    </tr>\n    <tr>\n      <th>32</th>\n      <td>5</td>\n      <td>2015-07-14 20:28:12</td>\n      <td>Fhw2NF</td>\n      <td>7 Cities Pilsner</td>\n      <td>American Pilsener</td>\n    </tr>\n    <tr>\n      <th>33</th>\n      <td>7.2</td>\n      <td>2014-07-17 14:35:54</td>\n      <td>MqTIG4</td>\n      <td>72 Imperial</td>\n      <td>Stout</td>\n    </tr>\n    <tr>\n      <th>34</th>\n      <td>5.7</td>\n      <td>2015-04-06 16:47:09</td>\n      <td>wDgaK8</td>\n      <td>A Beer Named Sue</td>\n      <td>Saison</td>\n    </tr>\n    <tr>\n      <th>35</th>\n      <td>8.7</td>\n      <td>2014-04-17 12:52:38</td>\n      <td>Au0v9G</td>\n      <td>A Little Sumpin' Extra</td>\n      <td>Imperial IPA</td>\n    </tr>\n    <tr>\n      <th>36</th>\n      <td>7.5</td>\n      <td>2012-01-03 02:43:37</td>\n      <td>svXHfu</td>\n      <td>A Little Sumpin' Sumpin'</td>\n      <td>American Pale</td>\n    </tr>\n    <tr>\n      <th>37</th>\n      <td>4.3</td>\n      <td>2012-01-03 02:42:38</td>\n      <td>hbF6tu</td>\n      <td>ABLE Best Britter</td>\n      <td>Special Bitter</td>\n    </tr>\n    <tr>\n      <th>38</th>\n      <td>4.6</td>\n      <td>2012-10-10 23:41:23</td>\n      <td>MTLa3r</td>\n      <td>Afternooner</td>\n      <td>Belgian Pale</td>\n    </tr>\n    <tr>\n      <th>39</th>\n      <td>5.9</td>\n      <td>2012-01-03 02:42:39</td>\n      <td>6AcqY6</td>\n      <td>Agave Wheat</td>\n      <td>Wheat Ale</td>\n    </tr>\n    <tr>\n      <th>40</th>\n      <td>5.7</td>\n      <td>2013-09-03 14:12:56</td>\n      <td>RK9Po6</td>\n      <td>Ale 20</td>\n      <td>American Pale</td>\n    </tr>\n    <tr>\n      <th>41</th>\n      <td>7.8</td>\n      <td>2012-10-10 23:41:24</td>\n      <td>yn4ODI</td>\n      <td>Ale Communication</td>\n      <td>Imperial Red</td>\n    </tr>\n    <tr>\n      <th>42</th>\n      <td>5.5</td>\n      <td>2017-12-14 15:18:59</td>\n      <td>2cLm8B</td>\n      <td>All Colorado Apricot Wheat</td>\n      <td>Fruit Wheat Ale</td>\n    </tr>\n    <tr>\n      <th>43</th>\n      <td>5.8</td>\n      <td>2017-12-20 13:54:10</td>\n      <td>DbeLZF</td>\n      <td>All Colorado Wet Hop Pale Ale</td>\n      <td>American Pale</td>\n    </tr>\n    <tr>\n      <th>44</th>\n      <td>8.5</td>\n      <td>2013-05-02 18:24:18</td>\n      <td>aG4Ie2</td>\n      <td>Alpha Dog Imperial IPA</td>\n      <td>Imperial IPA</td>\n    </tr>\n  </tbody>\n</table>\n</div>",
      "text/plain": [
       "     abv                 date      id  \\\n",
       "0    5.5  2013-08-19 11:58:12  c4f2KE   \n",
       "1    4.5  2016-08-09 14:44:42  zTTWa2   \n",
       "2    5.5  2016-08-03 23:25:54  zfP2fK   \n",
       "3     11  2013-02-24 16:31:05  UJGpVS   \n",
       "4    4.5  2018-04-29 16:55:00  vz5JZ1   \n",
       "5      9  2015-04-16 15:43:03  LcpeBb   \n",
       "6     10  2015-04-15 20:02:48  Yd8G8r   \n",
       "7      7  2017-09-06 14:34:39  iJ329Y   \n",
       "8      5  2017-06-19 14:11:51  O78ldO   \n",
       "9    8.7  2012-01-03 02:42:37  qGDeH1   \n",
       "10     6  2017-09-11 16:56:19  MgdJep   \n",
       "11   6.5  2017-04-11 15:29:50  ISTT06   \n",
       "12     9  2017-02-18 19:42:40  v4KRep   \n",
       "13   7.9  2018-04-17 19:19:15  e9sjBk   \n",
       "14   9.8  2015-12-11 15:48:31  YZXVKq   \n",
       "15     4  2017-07-23 21:47:32  7z8RTq   \n",
       "16   8.3  2014-06-17 20:00:02  f5CWb6   \n",
       "17   9.2  2014-02-04 22:15:20  0KEzfx   \n",
       "18   9.2  2018-05-10 17:15:23  KjumXn   \n",
       "19  10.2  2014-06-17 20:02:42  8M5lCq   \n",
       "20     8  2015-11-10 14:23:57  ajbd6g   \n",
       "21   5.4  2012-01-03 02:44:20  NoNhan   \n",
       "22     8  2015-06-01 22:38:11  pOUbfg   \n",
       "23     6  2018-07-13 19:25:27  jIKwgZ   \n",
       "24   9.2  2015-11-18 18:37:22  lWygSS   \n",
       "25   7.8  2012-01-03 02:42:37  fa0oqf   \n",
       "26  11.3  2017-04-19 13:37:27  HZMvCT   \n",
       "27  11.2  2016-11-30 19:13:16  GysKeq   \n",
       "28   9.2  2012-01-03 02:42:37  tw2Iw0   \n",
       "29   9.2  2012-01-03 02:42:37  j9cp5e   \n",
       "30   6.5  2012-01-03 02:42:37  5MX880   \n",
       "31     5  2015-07-14 20:56:20  uA3MVL   \n",
       "32     5  2015-07-14 20:28:12  Fhw2NF   \n",
       "33   7.2  2014-07-17 14:35:54  MqTIG4   \n",
       "34   5.7  2015-04-06 16:47:09  wDgaK8   \n",
       "35   8.7  2014-04-17 12:52:38  Au0v9G   \n",
       "36   7.5  2012-01-03 02:43:37  svXHfu   \n",
       "37   4.3  2012-01-03 02:42:38  hbF6tu   \n",
       "38   4.6  2012-10-10 23:41:23  MTLa3r   \n",
       "39   5.9  2012-01-03 02:42:39  6AcqY6   \n",
       "40   5.7  2013-09-03 14:12:56  RK9Po6   \n",
       "41   7.8  2012-10-10 23:41:24  yn4ODI   \n",
       "42   5.5  2017-12-14 15:18:59  2cLm8B   \n",
       "43   5.8  2017-12-20 13:54:10  DbeLZF   \n",
       "44   8.5  2013-05-02 18:24:18  aG4Ie2   \n",
       "\n",
       "                                             name                     style  \n",
       "0                                'Murican Pilsner         American Pilsener  \n",
       "1                                     11.5° PLATO               Session IPA  \n",
       "2                                   12th Of Never             American Pale  \n",
       "3                       16 So Fine Red Wheat Wine                 Wheatwine  \n",
       "4                         1794 The Fergal Project            American Stout  \n",
       "5                                     17th Saison                    Saison  \n",
       "6                 18th Anniversary Belgian Tripel            Belgian Tripel  \n",
       "7                   19 - Golden Belgian Style Ale           BBL Aged Strong  \n",
       "8                         1904 American Red Lager            American Lager  \n",
       "9                                           2 x 4               Belgian Ale  \n",
       "10                 200th Anniversary Export Stout              Export Stout  \n",
       "11                                 2017 Beer Camp              American IPA  \n",
       "12    20th Anniversary Imperial Hash IPA on Brett              Imperial IPA  \n",
       "13                               21st Anniversary              Flanders Red  \n",
       "14                               25th Anniversary  American Imperial Porter  \n",
       "15                                       3 Weight               Session IPA  \n",
       "16  30th Anniversary - Charlie, Fred & Ken's Bock                   Maibock  \n",
       "17         30th Anniversary - Fritz and Ken's Ale   American Imperial Stout  \n",
       "18                   30th Anniversary - Grand Cru                Strong Ale  \n",
       "19            30th Anniversary - Jack & Ken's Ale       American Barleywine  \n",
       "20           35th Anniversary  - Brewer's Reserve                Strong Ale  \n",
       "21                             420 Extra Pale Ale             American Pale  \n",
       "22                                       420 Fest              Imperial IPA  \n",
       "23                             420 Strain G13 IPA              American IPA  \n",
       "24                    471 Double IPA - Hull Melon              Imperial IPA  \n",
       "25                 471 ESB - Extra Special Bitter                       ESB  \n",
       "26                   471 IPA Barrel Series: Citra              Imperial IPA  \n",
       "27                 471 IPA Barrel Series: Eureka!              Imperial IPA  \n",
       "28                  471 IPA. Aggressive Hoppiness              Imperial IPA  \n",
       "29                            471 Small Batch IPA              American IPA  \n",
       "30                                      5 C's IPA              American IPA  \n",
       "31                                        7 Birds         American Pilsener  \n",
       "32                               7 Cities Pilsner         American Pilsener  \n",
       "33                                    72 Imperial                     Stout  \n",
       "34                               A Beer Named Sue                    Saison  \n",
       "35                         A Little Sumpin' Extra              Imperial IPA  \n",
       "36                       A Little Sumpin' Sumpin'             American Pale  \n",
       "37                              ABLE Best Britter            Special Bitter  \n",
       "38                                    Afternooner              Belgian Pale  \n",
       "39                                    Agave Wheat                 Wheat Ale  \n",
       "40                                         Ale 20             American Pale  \n",
       "41                              Ale Communication              Imperial Red  \n",
       "42                     All Colorado Apricot Wheat           Fruit Wheat Ale  \n",
       "43                  All Colorado Wet Hop Pale Ale             American Pale  \n",
       "44                         Alpha Dog Imperial IPA              Imperial IPA  "
      ]
     },
     "metadata": {},
     "execution_count": 7
    }
   ],
   "source": [
    "df = pd.DataFrame(series_list)\n",
    "df"
   ]
  },
  {
   "cell_type": "code",
   "execution_count": 14,
   "metadata": {},
   "outputs": [
    {
     "output_type": "execute_result",
     "data": {
      "text/plain": [
       "     abv                 date      id  \\\n",
       "14   9.8  2015-12-11 15:48:31  YZXVKq   \n",
       "29   9.2  2012-01-03 02:42:37  j9cp5e   \n",
       "28   9.2  2012-01-03 02:42:37  tw2Iw0   \n",
       "24   9.2  2015-11-18 18:37:22  lWygSS   \n",
       "18   9.2  2018-05-10 17:15:23  KjumXn   \n",
       "17   9.2  2014-02-04 22:15:20  0KEzfx   \n",
       "5      9  2015-04-16 15:43:03  LcpeBb   \n",
       "12     9  2017-02-18 19:42:40  v4KRep   \n",
       "35   8.7  2014-04-17 12:52:38  Au0v9G   \n",
       "9    8.7  2012-01-03 02:42:37  qGDeH1   \n",
       "44   8.5  2013-05-02 18:24:18  aG4Ie2   \n",
       "16   8.3  2014-06-17 20:00:02  f5CWb6   \n",
       "20     8  2015-11-10 14:23:57  ajbd6g   \n",
       "22     8  2015-06-01 22:38:11  pOUbfg   \n",
       "13   7.9  2018-04-17 19:19:15  e9sjBk   \n",
       "41   7.8  2012-10-10 23:41:24  yn4ODI   \n",
       "25   7.8  2012-01-03 02:42:37  fa0oqf   \n",
       "36   7.5  2012-01-03 02:43:37  svXHfu   \n",
       "33   7.2  2014-07-17 14:35:54  MqTIG4   \n",
       "7      7  2017-09-06 14:34:39  iJ329Y   \n",
       "30   6.5  2012-01-03 02:42:37  5MX880   \n",
       "11   6.5  2017-04-11 15:29:50  ISTT06   \n",
       "10     6  2017-09-11 16:56:19  MgdJep   \n",
       "23     6  2018-07-13 19:25:27  jIKwgZ   \n",
       "39   5.9  2012-01-03 02:42:39  6AcqY6   \n",
       "43   5.8  2017-12-20 13:54:10  DbeLZF   \n",
       "40   5.7  2013-09-03 14:12:56  RK9Po6   \n",
       "34   5.7  2015-04-06 16:47:09  wDgaK8   \n",
       "42   5.5  2017-12-14 15:18:59  2cLm8B   \n",
       "2    5.5  2016-08-03 23:25:54  zfP2fK   \n",
       "0    5.5  2013-08-19 11:58:12  c4f2KE   \n",
       "21   5.4  2012-01-03 02:44:20  NoNhan   \n",
       "31     5  2015-07-14 20:56:20  uA3MVL   \n",
       "32     5  2015-07-14 20:28:12  Fhw2NF   \n",
       "8      5  2017-06-19 14:11:51  O78ldO   \n",
       "38   4.6  2012-10-10 23:41:23  MTLa3r   \n",
       "4    4.5  2018-04-29 16:55:00  vz5JZ1   \n",
       "1    4.5  2016-08-09 14:44:42  zTTWa2   \n",
       "37   4.3  2012-01-03 02:42:38  hbF6tu   \n",
       "15     4  2017-07-23 21:47:32  7z8RTq   \n",
       "26  11.3  2017-04-19 13:37:27  HZMvCT   \n",
       "27  11.2  2016-11-30 19:13:16  GysKeq   \n",
       "3     11  2013-02-24 16:31:05  UJGpVS   \n",
       "19  10.2  2014-06-17 20:02:42  8M5lCq   \n",
       "6     10  2015-04-15 20:02:48  Yd8G8r   \n",
       "\n",
       "                                             name                     style  \n",
       "14                               25th Anniversary  American Imperial Porter  \n",
       "29                            471 Small Batch IPA              American IPA  \n",
       "28                  471 IPA. Aggressive Hoppiness              Imperial IPA  \n",
       "24                    471 Double IPA - Hull Melon              Imperial IPA  \n",
       "18                   30th Anniversary - Grand Cru                Strong Ale  \n",
       "17         30th Anniversary - Fritz and Ken's Ale   American Imperial Stout  \n",
       "5                                     17th Saison                    Saison  \n",
       "12    20th Anniversary Imperial Hash IPA on Brett              Imperial IPA  \n",
       "35                         A Little Sumpin' Extra              Imperial IPA  \n",
       "9                                           2 x 4               Belgian Ale  \n",
       "44                         Alpha Dog Imperial IPA              Imperial IPA  \n",
       "16  30th Anniversary - Charlie, Fred & Ken's Bock                   Maibock  \n",
       "20           35th Anniversary  - Brewer's Reserve                Strong Ale  \n",
       "22                                       420 Fest              Imperial IPA  \n",
       "13                               21st Anniversary              Flanders Red  \n",
       "41                              Ale Communication              Imperial Red  \n",
       "25                 471 ESB - Extra Special Bitter                       ESB  \n",
       "36                       A Little Sumpin' Sumpin'             American Pale  \n",
       "33                                    72 Imperial                     Stout  \n",
       "7                   19 - Golden Belgian Style Ale           BBL Aged Strong  \n",
       "30                                      5 C's IPA              American IPA  \n",
       "11                                 2017 Beer Camp              American IPA  \n",
       "10                 200th Anniversary Export Stout              Export Stout  \n",
       "23                             420 Strain G13 IPA              American IPA  \n",
       "39                                    Agave Wheat                 Wheat Ale  \n",
       "43                  All Colorado Wet Hop Pale Ale             American Pale  \n",
       "40                                         Ale 20             American Pale  \n",
       "34                               A Beer Named Sue                    Saison  \n",
       "42                     All Colorado Apricot Wheat           Fruit Wheat Ale  \n",
       "2                                   12th Of Never             American Pale  \n",
       "0                                'Murican Pilsner         American Pilsener  \n",
       "21                             420 Extra Pale Ale             American Pale  \n",
       "31                                        7 Birds         American Pilsener  \n",
       "32                               7 Cities Pilsner         American Pilsener  \n",
       "8                         1904 American Red Lager            American Lager  \n",
       "38                                    Afternooner              Belgian Pale  \n",
       "4                         1794 The Fergal Project            American Stout  \n",
       "1                                     11.5° PLATO               Session IPA  \n",
       "37                              ABLE Best Britter            Special Bitter  \n",
       "15                                       3 Weight               Session IPA  \n",
       "26                   471 IPA Barrel Series: Citra              Imperial IPA  \n",
       "27                 471 IPA Barrel Series: Eureka!              Imperial IPA  \n",
       "3                       16 So Fine Red Wheat Wine                 Wheatwine  \n",
       "19            30th Anniversary - Jack & Ken's Ale       American Barleywine  \n",
       "6                 18th Anniversary Belgian Tripel            Belgian Tripel  "
      ],
      "text/html": "<div>\n<style scoped>\n    .dataframe tbody tr th:only-of-type {\n        vertical-align: middle;\n    }\n\n    .dataframe tbody tr th {\n        vertical-align: top;\n    }\n\n    .dataframe thead th {\n        text-align: right;\n    }\n</style>\n<table border=\"1\" class=\"dataframe\">\n  <thead>\n    <tr style=\"text-align: right;\">\n      <th></th>\n      <th>abv</th>\n      <th>date</th>\n      <th>id</th>\n      <th>name</th>\n      <th>style</th>\n    </tr>\n  </thead>\n  <tbody>\n    <tr>\n      <th>14</th>\n      <td>9.8</td>\n      <td>2015-12-11 15:48:31</td>\n      <td>YZXVKq</td>\n      <td>25th Anniversary</td>\n      <td>American Imperial Porter</td>\n    </tr>\n    <tr>\n      <th>29</th>\n      <td>9.2</td>\n      <td>2012-01-03 02:42:37</td>\n      <td>j9cp5e</td>\n      <td>471 Small Batch IPA</td>\n      <td>American IPA</td>\n    </tr>\n    <tr>\n      <th>28</th>\n      <td>9.2</td>\n      <td>2012-01-03 02:42:37</td>\n      <td>tw2Iw0</td>\n      <td>471 IPA. Aggressive Hoppiness</td>\n      <td>Imperial IPA</td>\n    </tr>\n    <tr>\n      <th>24</th>\n      <td>9.2</td>\n      <td>2015-11-18 18:37:22</td>\n      <td>lWygSS</td>\n      <td>471 Double IPA - Hull Melon</td>\n      <td>Imperial IPA</td>\n    </tr>\n    <tr>\n      <th>18</th>\n      <td>9.2</td>\n      <td>2018-05-10 17:15:23</td>\n      <td>KjumXn</td>\n      <td>30th Anniversary - Grand Cru</td>\n      <td>Strong Ale</td>\n    </tr>\n    <tr>\n      <th>17</th>\n      <td>9.2</td>\n      <td>2014-02-04 22:15:20</td>\n      <td>0KEzfx</td>\n      <td>30th Anniversary - Fritz and Ken's Ale</td>\n      <td>American Imperial Stout</td>\n    </tr>\n    <tr>\n      <th>5</th>\n      <td>9</td>\n      <td>2015-04-16 15:43:03</td>\n      <td>LcpeBb</td>\n      <td>17th Saison</td>\n      <td>Saison</td>\n    </tr>\n    <tr>\n      <th>12</th>\n      <td>9</td>\n      <td>2017-02-18 19:42:40</td>\n      <td>v4KRep</td>\n      <td>20th Anniversary Imperial Hash IPA on Brett</td>\n      <td>Imperial IPA</td>\n    </tr>\n    <tr>\n      <th>35</th>\n      <td>8.7</td>\n      <td>2014-04-17 12:52:38</td>\n      <td>Au0v9G</td>\n      <td>A Little Sumpin' Extra</td>\n      <td>Imperial IPA</td>\n    </tr>\n    <tr>\n      <th>9</th>\n      <td>8.7</td>\n      <td>2012-01-03 02:42:37</td>\n      <td>qGDeH1</td>\n      <td>2 x 4</td>\n      <td>Belgian Ale</td>\n    </tr>\n    <tr>\n      <th>44</th>\n      <td>8.5</td>\n      <td>2013-05-02 18:24:18</td>\n      <td>aG4Ie2</td>\n      <td>Alpha Dog Imperial IPA</td>\n      <td>Imperial IPA</td>\n    </tr>\n    <tr>\n      <th>16</th>\n      <td>8.3</td>\n      <td>2014-06-17 20:00:02</td>\n      <td>f5CWb6</td>\n      <td>30th Anniversary - Charlie, Fred &amp; Ken's Bock</td>\n      <td>Maibock</td>\n    </tr>\n    <tr>\n      <th>20</th>\n      <td>8</td>\n      <td>2015-11-10 14:23:57</td>\n      <td>ajbd6g</td>\n      <td>35th Anniversary  - Brewer's Reserve</td>\n      <td>Strong Ale</td>\n    </tr>\n    <tr>\n      <th>22</th>\n      <td>8</td>\n      <td>2015-06-01 22:38:11</td>\n      <td>pOUbfg</td>\n      <td>420 Fest</td>\n      <td>Imperial IPA</td>\n    </tr>\n    <tr>\n      <th>13</th>\n      <td>7.9</td>\n      <td>2018-04-17 19:19:15</td>\n      <td>e9sjBk</td>\n      <td>21st Anniversary</td>\n      <td>Flanders Red</td>\n    </tr>\n    <tr>\n      <th>41</th>\n      <td>7.8</td>\n      <td>2012-10-10 23:41:24</td>\n      <td>yn4ODI</td>\n      <td>Ale Communication</td>\n      <td>Imperial Red</td>\n    </tr>\n    <tr>\n      <th>25</th>\n      <td>7.8</td>\n      <td>2012-01-03 02:42:37</td>\n      <td>fa0oqf</td>\n      <td>471 ESB - Extra Special Bitter</td>\n      <td>ESB</td>\n    </tr>\n    <tr>\n      <th>36</th>\n      <td>7.5</td>\n      <td>2012-01-03 02:43:37</td>\n      <td>svXHfu</td>\n      <td>A Little Sumpin' Sumpin'</td>\n      <td>American Pale</td>\n    </tr>\n    <tr>\n      <th>33</th>\n      <td>7.2</td>\n      <td>2014-07-17 14:35:54</td>\n      <td>MqTIG4</td>\n      <td>72 Imperial</td>\n      <td>Stout</td>\n    </tr>\n    <tr>\n      <th>7</th>\n      <td>7</td>\n      <td>2017-09-06 14:34:39</td>\n      <td>iJ329Y</td>\n      <td>19 - Golden Belgian Style Ale</td>\n      <td>BBL Aged Strong</td>\n    </tr>\n    <tr>\n      <th>30</th>\n      <td>6.5</td>\n      <td>2012-01-03 02:42:37</td>\n      <td>5MX880</td>\n      <td>5 C's IPA</td>\n      <td>American IPA</td>\n    </tr>\n    <tr>\n      <th>11</th>\n      <td>6.5</td>\n      <td>2017-04-11 15:29:50</td>\n      <td>ISTT06</td>\n      <td>2017 Beer Camp</td>\n      <td>American IPA</td>\n    </tr>\n    <tr>\n      <th>10</th>\n      <td>6</td>\n      <td>2017-09-11 16:56:19</td>\n      <td>MgdJep</td>\n      <td>200th Anniversary Export Stout</td>\n      <td>Export Stout</td>\n    </tr>\n    <tr>\n      <th>23</th>\n      <td>6</td>\n      <td>2018-07-13 19:25:27</td>\n      <td>jIKwgZ</td>\n      <td>420 Strain G13 IPA</td>\n      <td>American IPA</td>\n    </tr>\n    <tr>\n      <th>39</th>\n      <td>5.9</td>\n      <td>2012-01-03 02:42:39</td>\n      <td>6AcqY6</td>\n      <td>Agave Wheat</td>\n      <td>Wheat Ale</td>\n    </tr>\n    <tr>\n      <th>43</th>\n      <td>5.8</td>\n      <td>2017-12-20 13:54:10</td>\n      <td>DbeLZF</td>\n      <td>All Colorado Wet Hop Pale Ale</td>\n      <td>American Pale</td>\n    </tr>\n    <tr>\n      <th>40</th>\n      <td>5.7</td>\n      <td>2013-09-03 14:12:56</td>\n      <td>RK9Po6</td>\n      <td>Ale 20</td>\n      <td>American Pale</td>\n    </tr>\n    <tr>\n      <th>34</th>\n      <td>5.7</td>\n      <td>2015-04-06 16:47:09</td>\n      <td>wDgaK8</td>\n      <td>A Beer Named Sue</td>\n      <td>Saison</td>\n    </tr>\n    <tr>\n      <th>42</th>\n      <td>5.5</td>\n      <td>2017-12-14 15:18:59</td>\n      <td>2cLm8B</td>\n      <td>All Colorado Apricot Wheat</td>\n      <td>Fruit Wheat Ale</td>\n    </tr>\n    <tr>\n      <th>2</th>\n      <td>5.5</td>\n      <td>2016-08-03 23:25:54</td>\n      <td>zfP2fK</td>\n      <td>12th Of Never</td>\n      <td>American Pale</td>\n    </tr>\n    <tr>\n      <th>0</th>\n      <td>5.5</td>\n      <td>2013-08-19 11:58:12</td>\n      <td>c4f2KE</td>\n      <td>'Murican Pilsner</td>\n      <td>American Pilsener</td>\n    </tr>\n    <tr>\n      <th>21</th>\n      <td>5.4</td>\n      <td>2012-01-03 02:44:20</td>\n      <td>NoNhan</td>\n      <td>420 Extra Pale Ale</td>\n      <td>American Pale</td>\n    </tr>\n    <tr>\n      <th>31</th>\n      <td>5</td>\n      <td>2015-07-14 20:56:20</td>\n      <td>uA3MVL</td>\n      <td>7 Birds</td>\n      <td>American Pilsener</td>\n    </tr>\n    <tr>\n      <th>32</th>\n      <td>5</td>\n      <td>2015-07-14 20:28:12</td>\n      <td>Fhw2NF</td>\n      <td>7 Cities Pilsner</td>\n      <td>American Pilsener</td>\n    </tr>\n    <tr>\n      <th>8</th>\n      <td>5</td>\n      <td>2017-06-19 14:11:51</td>\n      <td>O78ldO</td>\n      <td>1904 American Red Lager</td>\n      <td>American Lager</td>\n    </tr>\n    <tr>\n      <th>38</th>\n      <td>4.6</td>\n      <td>2012-10-10 23:41:23</td>\n      <td>MTLa3r</td>\n      <td>Afternooner</td>\n      <td>Belgian Pale</td>\n    </tr>\n    <tr>\n      <th>4</th>\n      <td>4.5</td>\n      <td>2018-04-29 16:55:00</td>\n      <td>vz5JZ1</td>\n      <td>1794 The Fergal Project</td>\n      <td>American Stout</td>\n    </tr>\n    <tr>\n      <th>1</th>\n      <td>4.5</td>\n      <td>2016-08-09 14:44:42</td>\n      <td>zTTWa2</td>\n      <td>11.5° PLATO</td>\n      <td>Session IPA</td>\n    </tr>\n    <tr>\n      <th>37</th>\n      <td>4.3</td>\n      <td>2012-01-03 02:42:38</td>\n      <td>hbF6tu</td>\n      <td>ABLE Best Britter</td>\n      <td>Special Bitter</td>\n    </tr>\n    <tr>\n      <th>15</th>\n      <td>4</td>\n      <td>2017-07-23 21:47:32</td>\n      <td>7z8RTq</td>\n      <td>3 Weight</td>\n      <td>Session IPA</td>\n    </tr>\n    <tr>\n      <th>26</th>\n      <td>11.3</td>\n      <td>2017-04-19 13:37:27</td>\n      <td>HZMvCT</td>\n      <td>471 IPA Barrel Series: Citra</td>\n      <td>Imperial IPA</td>\n    </tr>\n    <tr>\n      <th>27</th>\n      <td>11.2</td>\n      <td>2016-11-30 19:13:16</td>\n      <td>GysKeq</td>\n      <td>471 IPA Barrel Series: Eureka!</td>\n      <td>Imperial IPA</td>\n    </tr>\n    <tr>\n      <th>3</th>\n      <td>11</td>\n      <td>2013-02-24 16:31:05</td>\n      <td>UJGpVS</td>\n      <td>16 So Fine Red Wheat Wine</td>\n      <td>Wheatwine</td>\n    </tr>\n    <tr>\n      <th>19</th>\n      <td>10.2</td>\n      <td>2014-06-17 20:02:42</td>\n      <td>8M5lCq</td>\n      <td>30th Anniversary - Jack &amp; Ken's Ale</td>\n      <td>American Barleywine</td>\n    </tr>\n    <tr>\n      <th>6</th>\n      <td>10</td>\n      <td>2015-04-15 20:02:48</td>\n      <td>Yd8G8r</td>\n      <td>18th Anniversary Belgian Tripel</td>\n      <td>Belgian Tripel</td>\n    </tr>\n  </tbody>\n</table>\n</div>"
     },
     "metadata": {},
     "execution_count": 14
    }
   ],
   "source": [
    "df.sort_values(axis=0, by=['abv'], ascending=False, )"
   ]
  },
  {
   "cell_type": "code",
   "execution_count": null,
   "metadata": {},
   "outputs": [],
   "source": [
    "df2"
   ]
  },
  {
   "cell_type": "code",
   "execution_count": null,
   "metadata": {},
   "outputs": [],
   "source": [
    "import numpy and np\n",
    "import pandas as pd\n",
    "\n"
   ]
  },
  {
   "cell_type": "code",
   "execution_count": null,
   "metadata": {},
   "outputs": [],
   "source": [
    "fb = \"2a032880\"\n",
    "bytes_object = bytes.fromhex(fb)\n",
    "bytes_object.dedode('ASCII')"
   ]
  },
  {
   "cell_type": "code",
   "execution_count": null,
   "metadata": {},
   "outputs": [],
   "source": [
    "print(r.json()['data'][0].keys())"
   ]
  },
  {
   "cell_type": "code",
   "execution_count": 1,
   "metadata": {},
   "outputs": [],
   "source": [
    "trip = [[3,4,5],[1,2,3],[6,5,4]]"
   ]
  },
  {
   "cell_type": "code",
   "execution_count": 2,
   "metadata": {},
   "outputs": [],
   "source": [
    "trip.sort(key = lambda x:x[1])"
   ]
  },
  {
   "cell_type": "code",
   "execution_count": 3,
   "metadata": {},
   "outputs": [
    {
     "output_type": "execute_result",
     "data": {
      "text/plain": [
       "[[1, 2, 3], [3, 4, 5], [6, 5, 4]]"
      ]
     },
     "metadata": {},
     "execution_count": 3
    }
   ],
   "source": [
    "trip"
   ]
  },
  {
   "cell_type": "code",
   "execution_count": 3,
   "metadata": {},
   "outputs": [],
   "source": [
    "a = ['a','b','c','d'] \n",
    "b = ['c','d','e','f']\n"
   ]
  },
  {
   "cell_type": "code",
   "execution_count": 4,
   "metadata": {},
   "outputs": [
    {
     "output_type": "execute_result",
     "data": {
      "text/plain": [
       "['a', 'b']"
      ]
     },
     "metadata": {},
     "execution_count": 4
    }
   ],
   "source": [
    "[x for x in a if x not in b ]"
   ]
  },
  {
   "cell_type": "code",
   "execution_count": 16,
   "metadata": {},
   "outputs": [
    {
     "output_type": "execute_result",
     "data": {
      "text/plain": [
       "97"
      ]
     },
     "metadata": {},
     "execution_count": 16
    }
   ],
   "source": [
    "ord('a')"
   ]
  },
  {
   "cell_type": "code",
   "execution_count": null,
   "metadata": {},
   "outputs": [],
   "source": []
  }
 ]
}